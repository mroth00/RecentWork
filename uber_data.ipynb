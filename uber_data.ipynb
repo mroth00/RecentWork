{
 "cells": [
  {
   "cell_type": "code",
   "execution_count": 2,
   "metadata": {
    "collapsed": true
   },
   "outputs": [],
   "source": [
    "import numpy as np\n",
    "import random\n",
    "import pandas as pd\n",
    "import json\n",
    "import matplotlib.pyplot as plt\n",
    "from sklearn.ensemble import RandomForestClassifier\n",
    "from sklearn.metrics import f1_score"
   ]
  },
  {
   "cell_type": "code",
   "execution_count": 3,
   "metadata": {
    "collapsed": false
   },
   "outputs": [],
   "source": [
    "text=open('uber.json','r')\n",
    "x=text.read()\n",
    "y=json.loads(x)\n",
    "data=pd.DataFrame(y)"
   ]
  },
  {
   "cell_type": "markdown",
   "metadata": {},
   "source": [
    "This is the raw data"
   ]
  },
  {
   "cell_type": "code",
   "execution_count": 4,
   "metadata": {
    "collapsed": false,
    "scrolled": false
   },
   "outputs": [
    {
     "data": {
      "text/html": [
       "<div style=\"max-height:1000px;max-width:1500px;overflow:auto;\">\n",
       "<table border=\"1\" class=\"dataframe\">\n",
       "  <thead>\n",
       "    <tr style=\"text-align: right;\">\n",
       "      <th></th>\n",
       "      <th>avg_dist</th>\n",
       "      <th>avg_rating_by_driver</th>\n",
       "      <th>avg_rating_of_driver</th>\n",
       "      <th>avg_surge</th>\n",
       "      <th>city</th>\n",
       "      <th>last_trip_date</th>\n",
       "      <th>phone</th>\n",
       "      <th>signup_date</th>\n",
       "      <th>surge_pct</th>\n",
       "      <th>trips_in_first_30_days</th>\n",
       "      <th>uber_black_user</th>\n",
       "      <th>weekday_pct</th>\n",
       "    </tr>\n",
       "  </thead>\n",
       "  <tbody>\n",
       "    <tr>\n",
       "      <th>0</th>\n",
       "      <td> 3.67</td>\n",
       "      <td> 5.0</td>\n",
       "      <td> 4.7</td>\n",
       "      <td> 1.10</td>\n",
       "      <td> King's Landing</td>\n",
       "      <td> 2014-06-17</td>\n",
       "      <td>  iPhone</td>\n",
       "      <td> 2014-01-25</td>\n",
       "      <td> 15.4</td>\n",
       "      <td>  4</td>\n",
       "      <td>  True</td>\n",
       "      <td>  46.2</td>\n",
       "    </tr>\n",
       "    <tr>\n",
       "      <th>1</th>\n",
       "      <td> 8.26</td>\n",
       "      <td> 5.0</td>\n",
       "      <td> 5.0</td>\n",
       "      <td> 1.00</td>\n",
       "      <td>        Astapor</td>\n",
       "      <td> 2014-05-05</td>\n",
       "      <td> Android</td>\n",
       "      <td> 2014-01-29</td>\n",
       "      <td>  0.0</td>\n",
       "      <td>  0</td>\n",
       "      <td> False</td>\n",
       "      <td>  50.0</td>\n",
       "    </tr>\n",
       "    <tr>\n",
       "      <th>2</th>\n",
       "      <td> 0.77</td>\n",
       "      <td> 5.0</td>\n",
       "      <td> 4.3</td>\n",
       "      <td> 1.00</td>\n",
       "      <td>        Astapor</td>\n",
       "      <td> 2014-01-07</td>\n",
       "      <td>  iPhone</td>\n",
       "      <td> 2014-01-06</td>\n",
       "      <td>  0.0</td>\n",
       "      <td>  3</td>\n",
       "      <td> False</td>\n",
       "      <td> 100.0</td>\n",
       "    </tr>\n",
       "    <tr>\n",
       "      <th>3</th>\n",
       "      <td> 2.36</td>\n",
       "      <td> 4.9</td>\n",
       "      <td> 4.6</td>\n",
       "      <td> 1.14</td>\n",
       "      <td> King's Landing</td>\n",
       "      <td> 2014-06-29</td>\n",
       "      <td>  iPhone</td>\n",
       "      <td> 2014-01-10</td>\n",
       "      <td> 20.0</td>\n",
       "      <td>  9</td>\n",
       "      <td>  True</td>\n",
       "      <td>  80.0</td>\n",
       "    </tr>\n",
       "    <tr>\n",
       "      <th>4</th>\n",
       "      <td> 3.13</td>\n",
       "      <td> 4.9</td>\n",
       "      <td> 4.4</td>\n",
       "      <td> 1.19</td>\n",
       "      <td>     Winterfell</td>\n",
       "      <td> 2014-03-15</td>\n",
       "      <td> Android</td>\n",
       "      <td> 2014-01-27</td>\n",
       "      <td> 11.8</td>\n",
       "      <td> 14</td>\n",
       "      <td> False</td>\n",
       "      <td>  82.4</td>\n",
       "    </tr>\n",
       "  </tbody>\n",
       "</table>\n",
       "</div>"
      ],
      "text/plain": [
       "   avg_dist  avg_rating_by_driver  avg_rating_of_driver  avg_surge  \\\n",
       "0      3.67                   5.0                   4.7       1.10   \n",
       "1      8.26                   5.0                   5.0       1.00   \n",
       "2      0.77                   5.0                   4.3       1.00   \n",
       "3      2.36                   4.9                   4.6       1.14   \n",
       "4      3.13                   4.9                   4.4       1.19   \n",
       "\n",
       "             city last_trip_date    phone signup_date  surge_pct  \\\n",
       "0  King's Landing     2014-06-17   iPhone  2014-01-25       15.4   \n",
       "1         Astapor     2014-05-05  Android  2014-01-29        0.0   \n",
       "2         Astapor     2014-01-07   iPhone  2014-01-06        0.0   \n",
       "3  King's Landing     2014-06-29   iPhone  2014-01-10       20.0   \n",
       "4      Winterfell     2014-03-15  Android  2014-01-27       11.8   \n",
       "\n",
       "   trips_in_first_30_days uber_black_user  weekday_pct  \n",
       "0                       4            True         46.2  \n",
       "1                       0           False         50.0  \n",
       "2                       3           False        100.0  \n",
       "3                       9            True         80.0  \n",
       "4                      14           False         82.4  "
      ]
     },
     "execution_count": 4,
     "metadata": {},
     "output_type": "execute_result"
    }
   ],
   "source": [
    "data.head()"
   ]
  },
  {
   "cell_type": "markdown",
   "metadata": {},
   "source": [
    "Change the timestamps to date types for ease of use"
   ]
  },
  {
   "cell_type": "code",
   "execution_count": 5,
   "metadata": {
    "collapsed": false,
    "scrolled": true
   },
   "outputs": [],
   "source": [
    "data.last_trip_date=pd.to_datetime(data.last_trip_date)\n",
    "data.signup_date=pd.to_datetime(data.signup_date)"
   ]
  },
  {
   "cell_type": "markdown",
   "metadata": {},
   "source": [
    "Drop NaN for ease of use. This may not be a best practice but for an exercise let us assume this is okay."
   ]
  },
  {
   "cell_type": "code",
   "execution_count": 6,
   "metadata": {
    "collapsed": true
   },
   "outputs": [],
   "source": [
    "dat2=data.dropna()"
   ]
  },
  {
   "cell_type": "markdown",
   "metadata": {},
   "source": [
    "Summary Statistics"
   ]
  },
  {
   "cell_type": "code",
   "execution_count": 7,
   "metadata": {
    "collapsed": false,
    "scrolled": true
   },
   "outputs": [
    {
     "data": {
      "text/html": [
       "<div style=\"max-height:1000px;max-width:1500px;overflow:auto;\">\n",
       "<table border=\"1\" class=\"dataframe\">\n",
       "  <thead>\n",
       "    <tr style=\"text-align: right;\">\n",
       "      <th></th>\n",
       "      <th>avg_dist</th>\n",
       "      <th>avg_rating_by_driver</th>\n",
       "      <th>avg_rating_of_driver</th>\n",
       "      <th>avg_surge</th>\n",
       "      <th>surge_pct</th>\n",
       "      <th>trips_in_first_30_days</th>\n",
       "      <th>uber_black_user</th>\n",
       "      <th>weekday_pct</th>\n",
       "    </tr>\n",
       "  </thead>\n",
       "  <tbody>\n",
       "    <tr>\n",
       "      <th>count</th>\n",
       "      <td> 41445.000000</td>\n",
       "      <td> 41445.000000</td>\n",
       "      <td> 41445.000000</td>\n",
       "      <td> 41445.000000</td>\n",
       "      <td> 41445.000000</td>\n",
       "      <td> 41445.000000</td>\n",
       "      <td>     41445</td>\n",
       "      <td> 41445.000000</td>\n",
       "    </tr>\n",
       "    <tr>\n",
       "      <th>mean</th>\n",
       "      <td>     5.460046</td>\n",
       "      <td>     4.776446</td>\n",
       "      <td>     4.601720</td>\n",
       "      <td>     1.073822</td>\n",
       "      <td>     8.898709</td>\n",
       "      <td>     2.609675</td>\n",
       "      <td> 0.3840994</td>\n",
       "      <td>    61.254897</td>\n",
       "    </tr>\n",
       "    <tr>\n",
       "      <th>std</th>\n",
       "      <td>     5.145174</td>\n",
       "      <td>     0.404606</td>\n",
       "      <td>     0.616104</td>\n",
       "      <td>     0.198747</td>\n",
       "      <td>    18.322061</td>\n",
       "      <td>     4.059336</td>\n",
       "      <td> 0.4863875</td>\n",
       "      <td>    34.813848</td>\n",
       "    </tr>\n",
       "    <tr>\n",
       "      <th>min</th>\n",
       "      <td>     0.000000</td>\n",
       "      <td>     1.000000</td>\n",
       "      <td>     1.000000</td>\n",
       "      <td>     1.000000</td>\n",
       "      <td>     0.000000</td>\n",
       "      <td>     0.000000</td>\n",
       "      <td>     False</td>\n",
       "      <td>     0.000000</td>\n",
       "    </tr>\n",
       "    <tr>\n",
       "      <th>25%</th>\n",
       "      <td>     2.420000</td>\n",
       "      <td>     4.700000</td>\n",
       "      <td>     4.300000</td>\n",
       "      <td>     1.000000</td>\n",
       "      <td>     0.000000</td>\n",
       "      <td>     0.000000</td>\n",
       "      <td>         0</td>\n",
       "      <td>    37.500000</td>\n",
       "    </tr>\n",
       "    <tr>\n",
       "      <th>50%</th>\n",
       "      <td>     3.780000</td>\n",
       "      <td>     5.000000</td>\n",
       "      <td>     4.900000</td>\n",
       "      <td>     1.000000</td>\n",
       "      <td>     0.000000</td>\n",
       "      <td>     1.000000</td>\n",
       "      <td>         0</td>\n",
       "      <td>    66.700000</td>\n",
       "    </tr>\n",
       "    <tr>\n",
       "      <th>75%</th>\n",
       "      <td>     6.490000</td>\n",
       "      <td>     5.000000</td>\n",
       "      <td>     5.000000</td>\n",
       "      <td>     1.070000</td>\n",
       "      <td>    11.100000</td>\n",
       "      <td>     3.000000</td>\n",
       "      <td>         1</td>\n",
       "      <td>   100.000000</td>\n",
       "    </tr>\n",
       "    <tr>\n",
       "      <th>max</th>\n",
       "      <td>    79.690000</td>\n",
       "      <td>     5.000000</td>\n",
       "      <td>     5.000000</td>\n",
       "      <td>     8.000000</td>\n",
       "      <td>   100.000000</td>\n",
       "      <td>   125.000000</td>\n",
       "      <td>      True</td>\n",
       "      <td>   100.000000</td>\n",
       "    </tr>\n",
       "  </tbody>\n",
       "</table>\n",
       "</div>"
      ],
      "text/plain": [
       "           avg_dist  avg_rating_by_driver  avg_rating_of_driver     avg_surge  \\\n",
       "count  41445.000000          41445.000000          41445.000000  41445.000000   \n",
       "mean       5.460046              4.776446              4.601720      1.073822   \n",
       "std        5.145174              0.404606              0.616104      0.198747   \n",
       "min        0.000000              1.000000              1.000000      1.000000   \n",
       "25%        2.420000              4.700000              4.300000      1.000000   \n",
       "50%        3.780000              5.000000              4.900000      1.000000   \n",
       "75%        6.490000              5.000000              5.000000      1.070000   \n",
       "max       79.690000              5.000000              5.000000      8.000000   \n",
       "\n",
       "          surge_pct  trips_in_first_30_days uber_black_user   weekday_pct  \n",
       "count  41445.000000            41445.000000           41445  41445.000000  \n",
       "mean       8.898709                2.609675       0.3840994     61.254897  \n",
       "std       18.322061                4.059336       0.4863875     34.813848  \n",
       "min        0.000000                0.000000           False      0.000000  \n",
       "25%        0.000000                0.000000               0     37.500000  \n",
       "50%        0.000000                1.000000               0     66.700000  \n",
       "75%       11.100000                3.000000               1    100.000000  \n",
       "max      100.000000              125.000000            True    100.000000  "
      ]
     },
     "execution_count": 7,
     "metadata": {},
     "output_type": "execute_result"
    }
   ],
   "source": [
    "dat2.describe()"
   ]
  },
  {
   "cell_type": "markdown",
   "metadata": {},
   "source": [
    "We see that the last trip dates here are 2014-07-01"
   ]
  },
  {
   "cell_type": "code",
   "execution_count": 8,
   "metadata": {
    "collapsed": false
   },
   "outputs": [
    {
     "data": {
      "text/html": [
       "<div style=\"max-height:1000px;max-width:1500px;overflow:auto;\">\n",
       "<table border=\"1\" class=\"dataframe\">\n",
       "  <thead>\n",
       "    <tr style=\"text-align: right;\">\n",
       "      <th></th>\n",
       "      <th>avg_dist</th>\n",
       "      <th>avg_rating_by_driver</th>\n",
       "      <th>avg_rating_of_driver</th>\n",
       "      <th>avg_surge</th>\n",
       "      <th>city</th>\n",
       "      <th>last_trip_date</th>\n",
       "      <th>phone</th>\n",
       "      <th>signup_date</th>\n",
       "      <th>surge_pct</th>\n",
       "      <th>trips_in_first_30_days</th>\n",
       "      <th>uber_black_user</th>\n",
       "      <th>weekday_pct</th>\n",
       "    </tr>\n",
       "  </thead>\n",
       "  <tbody>\n",
       "    <tr>\n",
       "      <th>4486 </th>\n",
       "      <td> 11.94</td>\n",
       "      <td> 5.0</td>\n",
       "      <td> 5.0</td>\n",
       "      <td> 1.00</td>\n",
       "      <td>     Winterfell</td>\n",
       "      <td>2014-07-01</td>\n",
       "      <td> Android</td>\n",
       "      <td>2014-01-25</td>\n",
       "      <td>  0.0</td>\n",
       "      <td> 4</td>\n",
       "      <td>  True</td>\n",
       "      <td> 25.0</td>\n",
       "    </tr>\n",
       "    <tr>\n",
       "      <th>43047</th>\n",
       "      <td>  5.49</td>\n",
       "      <td> 4.7</td>\n",
       "      <td> 5.0</td>\n",
       "      <td> 1.01</td>\n",
       "      <td> King's Landing</td>\n",
       "      <td>2014-07-01</td>\n",
       "      <td>  iPhone</td>\n",
       "      <td>2014-01-15</td>\n",
       "      <td>  0.8</td>\n",
       "      <td> 1</td>\n",
       "      <td>  True</td>\n",
       "      <td> 89.3</td>\n",
       "    </tr>\n",
       "    <tr>\n",
       "      <th>24059</th>\n",
       "      <td>  8.62</td>\n",
       "      <td> 4.9</td>\n",
       "      <td> 4.3</td>\n",
       "      <td> 1.11</td>\n",
       "      <td>        Astapor</td>\n",
       "      <td>2014-07-01</td>\n",
       "      <td>  iPhone</td>\n",
       "      <td>2014-01-24</td>\n",
       "      <td> 14.3</td>\n",
       "      <td> 1</td>\n",
       "      <td> False</td>\n",
       "      <td> 71.4</td>\n",
       "    </tr>\n",
       "    <tr>\n",
       "      <th>40290</th>\n",
       "      <td>  7.51</td>\n",
       "      <td> 4.8</td>\n",
       "      <td> 4.9</td>\n",
       "      <td> 1.02</td>\n",
       "      <td> King's Landing</td>\n",
       "      <td>2014-07-01</td>\n",
       "      <td>  iPhone</td>\n",
       "      <td>2014-01-07</td>\n",
       "      <td>  1.6</td>\n",
       "      <td> 2</td>\n",
       "      <td>  True</td>\n",
       "      <td> 95.2</td>\n",
       "    </tr>\n",
       "    <tr>\n",
       "      <th>28689</th>\n",
       "      <td> 16.32</td>\n",
       "      <td> 5.0</td>\n",
       "      <td> 5.0</td>\n",
       "      <td> 1.00</td>\n",
       "      <td> King's Landing</td>\n",
       "      <td>2014-07-01</td>\n",
       "      <td>  iPhone</td>\n",
       "      <td>2014-01-16</td>\n",
       "      <td>  0.0</td>\n",
       "      <td> 5</td>\n",
       "      <td> False</td>\n",
       "      <td> 75.0</td>\n",
       "    </tr>\n",
       "  </tbody>\n",
       "</table>\n",
       "</div>"
      ],
      "text/plain": [
       "       avg_dist  avg_rating_by_driver  avg_rating_of_driver  avg_surge  \\\n",
       "4486      11.94                   5.0                   5.0       1.00   \n",
       "43047      5.49                   4.7                   5.0       1.01   \n",
       "24059      8.62                   4.9                   4.3       1.11   \n",
       "40290      7.51                   4.8                   4.9       1.02   \n",
       "28689     16.32                   5.0                   5.0       1.00   \n",
       "\n",
       "                 city last_trip_date    phone signup_date  surge_pct  \\\n",
       "4486       Winterfell     2014-07-01  Android  2014-01-25        0.0   \n",
       "43047  King's Landing     2014-07-01   iPhone  2014-01-15        0.8   \n",
       "24059         Astapor     2014-07-01   iPhone  2014-01-24       14.3   \n",
       "40290  King's Landing     2014-07-01   iPhone  2014-01-07        1.6   \n",
       "28689  King's Landing     2014-07-01   iPhone  2014-01-16        0.0   \n",
       "\n",
       "       trips_in_first_30_days uber_black_user  weekday_pct  \n",
       "4486                        4            True         25.0  \n",
       "43047                       1            True         89.3  \n",
       "24059                       1           False         71.4  \n",
       "40290                       2            True         95.2  \n",
       "28689                       5           False         75.0  "
      ]
     },
     "execution_count": 8,
     "metadata": {},
     "output_type": "execute_result"
    }
   ],
   "source": [
    "data.sort('last_trip_date',ascending=False).head()"
   ]
  },
  {
   "cell_type": "markdown",
   "metadata": {},
   "source": [
    "A quick and dirty function to add a bool value to users who have used Uber between 2014-06-01 and 2014-07-01"
   ]
  },
  {
   "cell_type": "code",
   "execution_count": 9,
   "metadata": {
    "collapsed": false
   },
   "outputs": [],
   "source": [
    "dat2.active=dat2.apply(lambda x: x.last_trip_date>pd.to_datetime('2014-06-01'),1)"
   ]
  },
  {
   "cell_type": "markdown",
   "metadata": {},
   "source": [
    "Frequency of Active users"
   ]
  },
  {
   "cell_type": "code",
   "execution_count": 10,
   "metadata": {
    "collapsed": false
   },
   "outputs": [
    {
     "data": {
      "text/plain": [
       "False    24837\n",
       "True     16608\n",
       "dtype: int64"
      ]
     },
     "execution_count": 10,
     "metadata": {},
     "output_type": "execute_result"
    }
   ],
   "source": [
    "dat2.active.value_counts()"
   ]
  },
  {
   "cell_type": "code",
   "execution_count": 11,
   "metadata": {
    "collapsed": false
   },
   "outputs": [],
   "source": [
    "dat2=pd.merge(dat2,\n",
    "              pd.DataFrame(\n",
    "    dat2.apply(lambda x: x.last_trip_date>pd.to_datetime('2014-06-01'),1),\n",
    "columns=['active']),\n",
    "              left_index=True,right_index=True)"
   ]
  },
  {
   "cell_type": "code",
   "execution_count": 12,
   "metadata": {
    "collapsed": false
   },
   "outputs": [
    {
     "data": {
      "text/html": [
       "<div style=\"max-height:1000px;max-width:1500px;overflow:auto;\">\n",
       "<table border=\"1\" class=\"dataframe\">\n",
       "  <thead>\n",
       "    <tr style=\"text-align: right;\">\n",
       "      <th></th>\n",
       "      <th>avg_dist</th>\n",
       "      <th>avg_rating_by_driver</th>\n",
       "      <th>avg_rating_of_driver</th>\n",
       "      <th>avg_surge</th>\n",
       "      <th>city</th>\n",
       "      <th>last_trip_date</th>\n",
       "      <th>phone</th>\n",
       "      <th>signup_date</th>\n",
       "      <th>surge_pct</th>\n",
       "      <th>trips_in_first_30_days</th>\n",
       "      <th>uber_black_user</th>\n",
       "      <th>weekday_pct</th>\n",
       "      <th>active</th>\n",
       "    </tr>\n",
       "  </thead>\n",
       "  <tbody>\n",
       "    <tr>\n",
       "      <th>0</th>\n",
       "      <td> 3.67</td>\n",
       "      <td> 5.0</td>\n",
       "      <td> 4.7</td>\n",
       "      <td> 1.10</td>\n",
       "      <td> King's Landing</td>\n",
       "      <td>2014-06-17</td>\n",
       "      <td>  iPhone</td>\n",
       "      <td>2014-01-25</td>\n",
       "      <td> 15.4</td>\n",
       "      <td>  4</td>\n",
       "      <td>  True</td>\n",
       "      <td>  46.2</td>\n",
       "      <td>  True</td>\n",
       "    </tr>\n",
       "    <tr>\n",
       "      <th>1</th>\n",
       "      <td> 8.26</td>\n",
       "      <td> 5.0</td>\n",
       "      <td> 5.0</td>\n",
       "      <td> 1.00</td>\n",
       "      <td>        Astapor</td>\n",
       "      <td>2014-05-05</td>\n",
       "      <td> Android</td>\n",
       "      <td>2014-01-29</td>\n",
       "      <td>  0.0</td>\n",
       "      <td>  0</td>\n",
       "      <td> False</td>\n",
       "      <td>  50.0</td>\n",
       "      <td> False</td>\n",
       "    </tr>\n",
       "    <tr>\n",
       "      <th>2</th>\n",
       "      <td> 0.77</td>\n",
       "      <td> 5.0</td>\n",
       "      <td> 4.3</td>\n",
       "      <td> 1.00</td>\n",
       "      <td>        Astapor</td>\n",
       "      <td>2014-01-07</td>\n",
       "      <td>  iPhone</td>\n",
       "      <td>2014-01-06</td>\n",
       "      <td>  0.0</td>\n",
       "      <td>  3</td>\n",
       "      <td> False</td>\n",
       "      <td> 100.0</td>\n",
       "      <td> False</td>\n",
       "    </tr>\n",
       "    <tr>\n",
       "      <th>3</th>\n",
       "      <td> 2.36</td>\n",
       "      <td> 4.9</td>\n",
       "      <td> 4.6</td>\n",
       "      <td> 1.14</td>\n",
       "      <td> King's Landing</td>\n",
       "      <td>2014-06-29</td>\n",
       "      <td>  iPhone</td>\n",
       "      <td>2014-01-10</td>\n",
       "      <td> 20.0</td>\n",
       "      <td>  9</td>\n",
       "      <td>  True</td>\n",
       "      <td>  80.0</td>\n",
       "      <td>  True</td>\n",
       "    </tr>\n",
       "    <tr>\n",
       "      <th>4</th>\n",
       "      <td> 3.13</td>\n",
       "      <td> 4.9</td>\n",
       "      <td> 4.4</td>\n",
       "      <td> 1.19</td>\n",
       "      <td>     Winterfell</td>\n",
       "      <td>2014-03-15</td>\n",
       "      <td> Android</td>\n",
       "      <td>2014-01-27</td>\n",
       "      <td> 11.8</td>\n",
       "      <td> 14</td>\n",
       "      <td> False</td>\n",
       "      <td>  82.4</td>\n",
       "      <td> False</td>\n",
       "    </tr>\n",
       "  </tbody>\n",
       "</table>\n",
       "</div>"
      ],
      "text/plain": [
       "   avg_dist  avg_rating_by_driver  avg_rating_of_driver  avg_surge  \\\n",
       "0      3.67                   5.0                   4.7       1.10   \n",
       "1      8.26                   5.0                   5.0       1.00   \n",
       "2      0.77                   5.0                   4.3       1.00   \n",
       "3      2.36                   4.9                   4.6       1.14   \n",
       "4      3.13                   4.9                   4.4       1.19   \n",
       "\n",
       "             city last_trip_date    phone signup_date  surge_pct  \\\n",
       "0  King's Landing     2014-06-17   iPhone  2014-01-25       15.4   \n",
       "1         Astapor     2014-05-05  Android  2014-01-29        0.0   \n",
       "2         Astapor     2014-01-07   iPhone  2014-01-06        0.0   \n",
       "3  King's Landing     2014-06-29   iPhone  2014-01-10       20.0   \n",
       "4      Winterfell     2014-03-15  Android  2014-01-27       11.8   \n",
       "\n",
       "   trips_in_first_30_days uber_black_user  weekday_pct active  \n",
       "0                       4            True         46.2   True  \n",
       "1                       0           False         50.0  False  \n",
       "2                       3           False        100.0  False  \n",
       "3                       9            True         80.0   True  \n",
       "4                      14           False         82.4  False  "
      ]
     },
     "execution_count": 12,
     "metadata": {},
     "output_type": "execute_result"
    }
   ],
   "source": [
    "dat2.head()"
   ]
  },
  {
   "cell_type": "markdown",
   "metadata": {},
   "source": [
    "The categorical variables which need to be turned into dummies are city and phone. We do not need to code active or uber_balck_user because T/F == 1/0."
   ]
  },
  {
   "cell_type": "code",
   "execution_count": 13,
   "metadata": {
    "collapsed": false
   },
   "outputs": [],
   "source": [
    "dat2=pd.merge(dat2,pd.get_dummies(dat2.phone),left_index=True,right_index=True)"
   ]
  },
  {
   "cell_type": "code",
   "execution_count": 14,
   "metadata": {
    "collapsed": false
   },
   "outputs": [],
   "source": [
    "dat2=pd.merge(dat2,pd.get_dummies(dat2.city),left_index=True,right_index=True)"
   ]
  },
  {
   "cell_type": "markdown",
   "metadata": {},
   "source": [
    "Now let us drop city,phone, Android,last trip date, signup date and Astapor"
   ]
  },
  {
   "cell_type": "code",
   "execution_count": 15,
   "metadata": {
    "collapsed": false
   },
   "outputs": [],
   "source": [
    "dat2=dat2.drop(['city','phone', 'Android', 'Astapor','signup_date','last_trip_date'],1)"
   ]
  },
  {
   "cell_type": "code",
   "execution_count": 16,
   "metadata": {
    "collapsed": false
   },
   "outputs": [
    {
     "data": {
      "text/html": [
       "<div style=\"max-height:1000px;max-width:1500px;overflow:auto;\">\n",
       "<table border=\"1\" class=\"dataframe\">\n",
       "  <thead>\n",
       "    <tr style=\"text-align: right;\">\n",
       "      <th></th>\n",
       "      <th>avg_dist</th>\n",
       "      <th>avg_rating_by_driver</th>\n",
       "      <th>avg_rating_of_driver</th>\n",
       "      <th>avg_surge</th>\n",
       "      <th>surge_pct</th>\n",
       "      <th>trips_in_first_30_days</th>\n",
       "      <th>uber_black_user</th>\n",
       "      <th>weekday_pct</th>\n",
       "      <th>active</th>\n",
       "      <th>iPhone</th>\n",
       "      <th>King's Landing</th>\n",
       "      <th>Winterfell</th>\n",
       "    </tr>\n",
       "  </thead>\n",
       "  <tbody>\n",
       "    <tr>\n",
       "      <th>0</th>\n",
       "      <td> 3.67</td>\n",
       "      <td> 5.0</td>\n",
       "      <td> 4.7</td>\n",
       "      <td> 1.10</td>\n",
       "      <td> 15.4</td>\n",
       "      <td>  4</td>\n",
       "      <td>  True</td>\n",
       "      <td>  46.2</td>\n",
       "      <td>  True</td>\n",
       "      <td> 1</td>\n",
       "      <td> 1</td>\n",
       "      <td> 0</td>\n",
       "    </tr>\n",
       "    <tr>\n",
       "      <th>1</th>\n",
       "      <td> 8.26</td>\n",
       "      <td> 5.0</td>\n",
       "      <td> 5.0</td>\n",
       "      <td> 1.00</td>\n",
       "      <td>  0.0</td>\n",
       "      <td>  0</td>\n",
       "      <td> False</td>\n",
       "      <td>  50.0</td>\n",
       "      <td> False</td>\n",
       "      <td> 0</td>\n",
       "      <td> 0</td>\n",
       "      <td> 0</td>\n",
       "    </tr>\n",
       "    <tr>\n",
       "      <th>2</th>\n",
       "      <td> 0.77</td>\n",
       "      <td> 5.0</td>\n",
       "      <td> 4.3</td>\n",
       "      <td> 1.00</td>\n",
       "      <td>  0.0</td>\n",
       "      <td>  3</td>\n",
       "      <td> False</td>\n",
       "      <td> 100.0</td>\n",
       "      <td> False</td>\n",
       "      <td> 1</td>\n",
       "      <td> 0</td>\n",
       "      <td> 0</td>\n",
       "    </tr>\n",
       "    <tr>\n",
       "      <th>3</th>\n",
       "      <td> 2.36</td>\n",
       "      <td> 4.9</td>\n",
       "      <td> 4.6</td>\n",
       "      <td> 1.14</td>\n",
       "      <td> 20.0</td>\n",
       "      <td>  9</td>\n",
       "      <td>  True</td>\n",
       "      <td>  80.0</td>\n",
       "      <td>  True</td>\n",
       "      <td> 1</td>\n",
       "      <td> 1</td>\n",
       "      <td> 0</td>\n",
       "    </tr>\n",
       "    <tr>\n",
       "      <th>4</th>\n",
       "      <td> 3.13</td>\n",
       "      <td> 4.9</td>\n",
       "      <td> 4.4</td>\n",
       "      <td> 1.19</td>\n",
       "      <td> 11.8</td>\n",
       "      <td> 14</td>\n",
       "      <td> False</td>\n",
       "      <td>  82.4</td>\n",
       "      <td> False</td>\n",
       "      <td> 0</td>\n",
       "      <td> 0</td>\n",
       "      <td> 1</td>\n",
       "    </tr>\n",
       "  </tbody>\n",
       "</table>\n",
       "</div>"
      ],
      "text/plain": [
       "   avg_dist  avg_rating_by_driver  avg_rating_of_driver  avg_surge  surge_pct  \\\n",
       "0      3.67                   5.0                   4.7       1.10       15.4   \n",
       "1      8.26                   5.0                   5.0       1.00        0.0   \n",
       "2      0.77                   5.0                   4.3       1.00        0.0   \n",
       "3      2.36                   4.9                   4.6       1.14       20.0   \n",
       "4      3.13                   4.9                   4.4       1.19       11.8   \n",
       "\n",
       "   trips_in_first_30_days uber_black_user  weekday_pct active  iPhone  \\\n",
       "0                       4            True         46.2   True       1   \n",
       "1                       0           False         50.0  False       0   \n",
       "2                       3           False        100.0  False       1   \n",
       "3                       9            True         80.0   True       1   \n",
       "4                      14           False         82.4  False       0   \n",
       "\n",
       "   King's Landing  Winterfell  \n",
       "0               1           0  \n",
       "1               0           0  \n",
       "2               0           0  \n",
       "3               1           0  \n",
       "4               0           1  "
      ]
     },
     "execution_count": 16,
     "metadata": {},
     "output_type": "execute_result"
    }
   ],
   "source": [
    "dat2.head()"
   ]
  },
  {
   "cell_type": "markdown",
   "metadata": {},
   "source": [
    "Now we fit a Random Forest Classifier. First split training and testing"
   ]
  },
  {
   "cell_type": "code",
   "execution_count": 17,
   "metadata": {
    "collapsed": false
   },
   "outputs": [],
   "source": [
    "rows=random.sample(dat2.index.tolist(),30000)\n",
    "not_rows=dat2.index.drop(rows)\n",
    "x_train = dat2.drop('active',1).ix[rows]\n",
    "x_test = dat2.drop('active',1).ix[not_rows]\n",
    "y_train = dat2.active.ix[rows]\n",
    "y_test = dat2.active.ix[not_rows]"
   ]
  },
  {
   "cell_type": "code",
   "execution_count": 18,
   "metadata": {
    "collapsed": false
   },
   "outputs": [],
   "source": [
    "model=RandomForestClassifier(n_estimators=100,n_jobs=-1)"
   ]
  },
  {
   "cell_type": "code",
   "execution_count": 19,
   "metadata": {
    "collapsed": false
   },
   "outputs": [],
   "source": [
    "clf = model.fit(x_train,y_train)"
   ]
  },
  {
   "cell_type": "markdown",
   "metadata": {},
   "source": [
    "The 'Score' of the model. The model predicts accurately 75% of the time."
   ]
  },
  {
   "cell_type": "code",
   "execution_count": 20,
   "metadata": {
    "collapsed": false
   },
   "outputs": [
    {
     "data": {
      "text/plain": [
       "0.75832241153342073"
      ]
     },
     "execution_count": 20,
     "metadata": {},
     "output_type": "execute_result"
    }
   ],
   "source": [
    "clf.score(x_test,y_test)"
   ]
  },
  {
   "cell_type": "markdown",
   "metadata": {},
   "source": [
    "f_1 score"
   ]
  },
  {
   "cell_type": "code",
   "execution_count": 21,
   "metadata": {
    "collapsed": false
   },
   "outputs": [
    {
     "data": {
      "text/plain": [
       "0.69273494778938016"
      ]
     },
     "execution_count": 21,
     "metadata": {},
     "output_type": "execute_result"
    }
   ],
   "source": [
    "f1_score(y_test,model.predict(x_test))"
   ]
  },
  {
   "cell_type": "code",
   "execution_count": 22,
   "metadata": {
    "collapsed": false
   },
   "outputs": [],
   "source": [
    "importances = model.feature_importances_"
   ]
  },
  {
   "cell_type": "code",
   "execution_count": 23,
   "metadata": {
    "collapsed": false
   },
   "outputs": [
    {
     "data": {
      "text/plain": [
       "array([ 0.26940352,  0.11785011,  0.08098199,  0.07015321,  0.08519582,\n",
       "        0.07895681,  0.03307973,  0.1446923 ,  0.04083101,  0.06244463,\n",
       "        0.01641086])"
      ]
     },
     "execution_count": 23,
     "metadata": {},
     "output_type": "execute_result"
    }
   ],
   "source": [
    "importances"
   ]
  },
  {
   "cell_type": "code",
   "execution_count": null,
   "metadata": {
    "collapsed": false
   },
   "outputs": [],
   "source": [
    "indices = np.argsort(importances)[::-1]\n",
    "std = np.std([tree.feature_importances_ for tree in model.estimators_],\n",
    "             axis=0)\n",
    "plt.figure()\n",
    "plt.title(\"Feature importances\")\n",
    "plt.bar(range(11), importances[indices],\n",
    "       color=\"r\", yerr=std[indices], align=\"center\")\n",
    "plt.xticks(range(11), dat2.columns[indices],rotation='vertical')\n",
    "plt.xlim([-1, 11])\n",
    "plt.margins(0.1)\n",
    "plt.subplots_adjust(bottom=0.25)\n",
    "plt.show()"
   ]
  },
  {
   "cell_type": "markdown",
   "metadata": {},
   "source": [
    "Here we can use the average of each variable and toggle the highly effective. We could do this more systematically and plot results."
   ]
  },
  {
   "cell_type": "code",
   "execution_count": 128,
   "metadata": {
    "collapsed": false
   },
   "outputs": [],
   "source": [
    "z.at['avg_dist']=20\n",
    "z.at['avg_rating_by_driver']=4.7\n",
    "z.at['avg_rating_of_driver']=4.6\n",
    "z.at['avg_surge']=.107\n",
    "z.at['surge_pct']=8.9\n",
    "z.at['trips_in_first_30_days']=2.6\n",
    "z.at['uber_black_user']=False\n",
    "z.at['weekday_pct']=.9\n",
    "z.at['iPhone']=True\n",
    "z.at[\"King's Landing\"]=False\n",
    "z.at[\"Winterfell\"]=True"
   ]
  },
  {
   "cell_type": "code",
   "execution_count": 129,
   "metadata": {
    "collapsed": false
   },
   "outputs": [
    {
     "data": {
      "text/plain": [
       "array([False], dtype=bool)"
      ]
     },
     "execution_count": 129,
     "metadata": {},
     "output_type": "execute_result"
    }
   ],
   "source": [
    "model.predict(z)"
   ]
  }
 ],
 "metadata": {
  "kernelspec": {
   "display_name": "Python 3",
   "language": "python",
   "name": "python3"
  },
  "language_info": {
   "codemirror_mode": {
    "name": "ipython",
    "version": 3
   },
   "file_extension": ".py",
   "mimetype": "text/x-python",
   "name": "python",
   "nbconvert_exporter": "python",
   "pygments_lexer": "ipython3",
   "version": "3.4.3"
  }
 },
 "nbformat": 4,
 "nbformat_minor": 0
}
